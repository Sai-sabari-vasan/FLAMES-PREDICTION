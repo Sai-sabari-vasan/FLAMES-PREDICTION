{
 "cells": [
  {
   "cell_type": "code",
   "execution_count": 77,
   "id": "d5a8673e-0f18-446d-9b2d-bbad8a747af5",
   "metadata": {},
   "outputs": [],
   "source": [
    "import numpy as np\n",
    "import pandas as pd\n",
    "import matplotlib.pyplot as plt \n",
    "import seaborn as sns\n",
    "import warnings\n",
    "warnings.filterwarnings(\"ignore\")"
   ]
  },
  {
   "cell_type": "code",
   "execution_count": 78,
   "id": "7ec4c8db-c9a1-4be9-ad83-f3a89f85a903",
   "metadata": {},
   "outputs": [
    {
     "data": {
      "text/plain": [
       "'First_person = input(\"Enter first string: \")\\nsecond_person = input(\"Enter second string: \")\\n\\nFirst_person2 = list(First_person)\\nsecond_person2 = list(second_person)\\n\\n# Iterating\\nfor ch in First_person2[:]:  \\n    if ch in second_person2:\\n        First_person2.remove(ch)\\n        second_person2.remove(ch)\\n\\nprint(\"After removing common letters:\")\\nprint(\"First:\", First_person2)\\nprint(\"Second:\", second_person2)\\n\\n\\n\\n\\nletters = [\"F\", \"L\", \"A\", \"M\", \"E\", \"S\"]\\ncount = len(First_person2)+len(second_person2)\\nindex = 0   # start from 0\\n\\nwhile len(letters) > 1:\\n    # move count-1 steps forward manually\\n    for _ in range(count - 1):\\n        index += 1\\n        if index >= len(letters):   # wrap around like a circle\\n            index = 0\\n\\n    print(\"Removing:\", letters[index])   # just to see\\n    letters.pop(index)                   # remove that letter\\n\\n    # no need to increment index again because next round\\n    # naturally continues from this position\\n\\nprint(\"Final letter:\", letters[0])\\nflames_meaning = {\\n    \"F\": \"Friends\",\\n    \"L\": \"Love\",\\n    \"A\": \"Affection\",\\n    \"M\": \"Marriage\",\\n    \"E\": \"Enemy\",\\n    \"S\": \"Siblings\"\\n}\\nprint(\"Relationship:\", flames_meaning[letters[0]])'"
      ]
     },
     "execution_count": 78,
     "metadata": {},
     "output_type": "execute_result"
    }
   ],
   "source": [
    "\"\"\"First_person = input(\"Enter first string: \")\n",
    "second_person = input(\"Enter second string: \")\n",
    "\n",
    "First_person2 = list(First_person)\n",
    "second_person2 = list(second_person)\n",
    "\n",
    "# Iterating\n",
    "for ch in First_person2[:]:  \n",
    "    if ch in second_person2:\n",
    "        First_person2.remove(ch)\n",
    "        second_person2.remove(ch)\n",
    "\n",
    "print(\"After removing common letters:\")\n",
    "print(\"First:\", First_person2)\n",
    "print(\"Second:\", second_person2)\n",
    "\n",
    "\n",
    "\n",
    "\n",
    "letters = [\"F\", \"L\", \"A\", \"M\", \"E\", \"S\"]\n",
    "count = len(First_person2)+len(second_person2)\n",
    "index = 0   # start from 0\n",
    "\n",
    "while len(letters) > 1:\n",
    "    # move count-1 steps forward manually\n",
    "    for _ in range(count - 1):\n",
    "        index += 1\n",
    "        if index >= len(letters):   # wrap around like a circle\n",
    "            index = 0\n",
    "\n",
    "    print(\"Removing:\", letters[index])   # just to see\n",
    "    letters.pop(index)                   # remove that letter\n",
    "\n",
    "    # no need to increment index again because next round\n",
    "    # naturally continues from this position\n",
    "\n",
    "print(\"Final letter:\", letters[0])\n",
    "flames_meaning = {\n",
    "    \"F\": \"Friends\",\n",
    "    \"L\": \"Love\",\n",
    "    \"A\": \"Affection\",\n",
    "    \"M\": \"Marriage\",\n",
    "    \"E\": \"Enemy\",\n",
    "    \"S\": \"Siblings\"\n",
    "}\n",
    "print(\"Relationship:\", flames_meaning[letters[0]])\"\"\"\n",
    "\n"
   ]
  },
  {
   "cell_type": "code",
   "execution_count": 79,
   "id": "32e9a5d9-4547-4ccd-8c8f-480f68a94c0d",
   "metadata": {},
   "outputs": [],
   "source": [
    "df=pd.read_csv(\"C:\\\\Users\\\\Home\\\\Documents\\\\a data training\\\\coding python\\\\datasets\\\\hollywood_couples_over_50_years.csv\")"
   ]
  },
  {
   "cell_type": "code",
   "execution_count": 80,
   "id": "4963812f-d480-4e76-9627-4793fa6bf64a",
   "metadata": {},
   "outputs": [
    {
     "data": {
      "text/html": [
       "<div>\n",
       "<style scoped>\n",
       "    .dataframe tbody tr th:only-of-type {\n",
       "        vertical-align: middle;\n",
       "    }\n",
       "\n",
       "    .dataframe tbody tr th {\n",
       "        vertical-align: top;\n",
       "    }\n",
       "\n",
       "    .dataframe thead th {\n",
       "        text-align: right;\n",
       "    }\n",
       "</style>\n",
       "<table border=\"1\" class=\"dataframe\">\n",
       "  <thead>\n",
       "    <tr style=\"text-align: right;\">\n",
       "      <th></th>\n",
       "      <th>index</th>\n",
       "      <th>Names</th>\n",
       "      <th>Length</th>\n",
       "      <th>Marriage</th>\n",
       "      <th>Source</th>\n",
       "    </tr>\n",
       "  </thead>\n",
       "  <tbody>\n",
       "    <tr>\n",
       "      <th>0</th>\n",
       "      <td>0</td>\n",
       "      <td>Irving Benson and Lillian</td>\n",
       "      <td>79 years, 306 days</td>\n",
       "      <td>November 19, 1936 – March 3, 2016 (her death)</td>\n",
       "      <td>Starr, Michael. \"Johnny Carson's favorite com...</td>\n",
       "    </tr>\n",
       "    <tr>\n",
       "      <th>1</th>\n",
       "      <td>1</td>\n",
       "      <td>Norman Lloyd and Peggy Lloyd</td>\n",
       "      <td>75 years, 65 days</td>\n",
       "      <td>June 26, 1936 – August 30, 2011 (her death)</td>\n",
       "      <td>\"Broadway thesp Peggy Lloyd dies at 98\". Vari...</td>\n",
       "    </tr>\n",
       "    <tr>\n",
       "      <th>2</th>\n",
       "      <td>2</td>\n",
       "      <td>Art Linkletter and Lois Linkletter</td>\n",
       "      <td>74 years, 5 months, 21 days</td>\n",
       "      <td>November 25, 1935 – May 16, 2010 (his death)</td>\n",
       "      <td>\"Art Linkletter: \"no work, just fun\"\". CBC Ar...</td>\n",
       "    </tr>\n",
       "    <tr>\n",
       "      <th>3</th>\n",
       "      <td>3</td>\n",
       "      <td>Karl Malden and Mona Greenberg</td>\n",
       "      <td>70 years, 6 months, 13 days</td>\n",
       "      <td>December 18, 1938 – July 1, 2009 (his death)</td>\n",
       "      <td>\"Oscar-winning actor Karl Malden dies aged 97...</td>\n",
       "    </tr>\n",
       "    <tr>\n",
       "      <th>4</th>\n",
       "      <td>4</td>\n",
       "      <td>Anne Jackson and Eli Wallach</td>\n",
       "      <td>66 years, 111 days</td>\n",
       "      <td>March 5, 1948 – June 24, 2014 (his death)</td>\n",
       "      <td>http://www.nytimes.com/2010/11/07/movies/07wal...</td>\n",
       "    </tr>\n",
       "  </tbody>\n",
       "</table>\n",
       "</div>"
      ],
      "text/plain": [
       "   index                               Names                       Length  \\\n",
       "0      0           Irving Benson and Lillian           79 years, 306 days   \n",
       "1      1        Norman Lloyd and Peggy Lloyd            75 years, 65 days   \n",
       "2      2  Art Linkletter and Lois Linkletter  74 years, 5 months, 21 days   \n",
       "3      3      Karl Malden and Mona Greenberg  70 years, 6 months, 13 days   \n",
       "4      4        Anne Jackson and Eli Wallach           66 years, 111 days   \n",
       "\n",
       "                                        Marriage  \\\n",
       "0  November 19, 1936 – March 3, 2016 (her death)   \n",
       "1    June 26, 1936 – August 30, 2011 (her death)   \n",
       "2   November 25, 1935 – May 16, 2010 (his death)   \n",
       "3   December 18, 1938 – July 1, 2009 (his death)   \n",
       "4      March 5, 1948 – June 24, 2014 (his death)   \n",
       "\n",
       "                                              Source  \n",
       "0   Starr, Michael. \"Johnny Carson's favorite com...  \n",
       "1   \"Broadway thesp Peggy Lloyd dies at 98\". Vari...  \n",
       "2   \"Art Linkletter: \"no work, just fun\"\". CBC Ar...  \n",
       "3   \"Oscar-winning actor Karl Malden dies aged 97...  \n",
       "4  http://www.nytimes.com/2010/11/07/movies/07wal...  "
      ]
     },
     "execution_count": 80,
     "metadata": {},
     "output_type": "execute_result"
    }
   ],
   "source": [
    "df.head()"
   ]
  },
  {
   "cell_type": "code",
   "execution_count": 81,
   "id": "2bb881dc-b1b1-4367-9efd-0b73dc18ea37",
   "metadata": {},
   "outputs": [
    {
     "data": {
      "text/plain": [
       "(33, 5)"
      ]
     },
     "execution_count": 81,
     "metadata": {},
     "output_type": "execute_result"
    }
   ],
   "source": [
    "df.shape\n"
   ]
  },
  {
   "cell_type": "code",
   "execution_count": 82,
   "id": "6924cb54-057a-4a99-ac36-ff49a112a488",
   "metadata": {},
   "outputs": [
    {
     "name": "stdout",
     "output_type": "stream",
     "text": [
      "<class 'pandas.core.frame.DataFrame'>\n",
      "RangeIndex: 33 entries, 0 to 32\n",
      "Data columns (total 5 columns):\n",
      " #   Column    Non-Null Count  Dtype \n",
      "---  ------    --------------  ----- \n",
      " 0   index     33 non-null     int64 \n",
      " 1   Names     33 non-null     object\n",
      " 2   Length    33 non-null     object\n",
      " 3   Marriage  33 non-null     object\n",
      " 4   Source    31 non-null     object\n",
      "dtypes: int64(1), object(4)\n",
      "memory usage: 1.4+ KB\n"
     ]
    }
   ],
   "source": [
    "df.info()\n"
   ]
  },
  {
   "cell_type": "code",
   "execution_count": 83,
   "id": "73c3920d-9aab-4331-a10c-04c405d94296",
   "metadata": {},
   "outputs": [
    {
     "data": {
      "text/html": [
       "<div>\n",
       "<style scoped>\n",
       "    .dataframe tbody tr th:only-of-type {\n",
       "        vertical-align: middle;\n",
       "    }\n",
       "\n",
       "    .dataframe tbody tr th {\n",
       "        vertical-align: top;\n",
       "    }\n",
       "\n",
       "    .dataframe thead th {\n",
       "        text-align: right;\n",
       "    }\n",
       "</style>\n",
       "<table border=\"1\" class=\"dataframe\">\n",
       "  <thead>\n",
       "    <tr style=\"text-align: right;\">\n",
       "      <th></th>\n",
       "      <th>index</th>\n",
       "    </tr>\n",
       "  </thead>\n",
       "  <tbody>\n",
       "    <tr>\n",
       "      <th>count</th>\n",
       "      <td>33.00000</td>\n",
       "    </tr>\n",
       "    <tr>\n",
       "      <th>mean</th>\n",
       "      <td>16.00000</td>\n",
       "    </tr>\n",
       "    <tr>\n",
       "      <th>std</th>\n",
       "      <td>9.66954</td>\n",
       "    </tr>\n",
       "    <tr>\n",
       "      <th>min</th>\n",
       "      <td>0.00000</td>\n",
       "    </tr>\n",
       "    <tr>\n",
       "      <th>25%</th>\n",
       "      <td>8.00000</td>\n",
       "    </tr>\n",
       "    <tr>\n",
       "      <th>50%</th>\n",
       "      <td>16.00000</td>\n",
       "    </tr>\n",
       "    <tr>\n",
       "      <th>75%</th>\n",
       "      <td>24.00000</td>\n",
       "    </tr>\n",
       "    <tr>\n",
       "      <th>max</th>\n",
       "      <td>32.00000</td>\n",
       "    </tr>\n",
       "  </tbody>\n",
       "</table>\n",
       "</div>"
      ],
      "text/plain": [
       "          index\n",
       "count  33.00000\n",
       "mean   16.00000\n",
       "std     9.66954\n",
       "min     0.00000\n",
       "25%     8.00000\n",
       "50%    16.00000\n",
       "75%    24.00000\n",
       "max    32.00000"
      ]
     },
     "execution_count": 83,
     "metadata": {},
     "output_type": "execute_result"
    }
   ],
   "source": [
    "df.describe()"
   ]
  },
  {
   "cell_type": "code",
   "execution_count": 84,
   "id": "b70016e8-c8c6-4e26-bd17-3aaab3c13b6e",
   "metadata": {},
   "outputs": [
    {
     "data": {
      "text/html": [
       "<div>\n",
       "<style scoped>\n",
       "    .dataframe tbody tr th:only-of-type {\n",
       "        vertical-align: middle;\n",
       "    }\n",
       "\n",
       "    .dataframe tbody tr th {\n",
       "        vertical-align: top;\n",
       "    }\n",
       "\n",
       "    .dataframe thead th {\n",
       "        text-align: right;\n",
       "    }\n",
       "</style>\n",
       "<table border=\"1\" class=\"dataframe\">\n",
       "  <thead>\n",
       "    <tr style=\"text-align: right;\">\n",
       "      <th></th>\n",
       "      <th>Names</th>\n",
       "      <th>Length</th>\n",
       "      <th>Marriage</th>\n",
       "      <th>Source</th>\n",
       "    </tr>\n",
       "  </thead>\n",
       "  <tbody>\n",
       "    <tr>\n",
       "      <th>count</th>\n",
       "      <td>33</td>\n",
       "      <td>33</td>\n",
       "      <td>33</td>\n",
       "      <td>31</td>\n",
       "    </tr>\n",
       "    <tr>\n",
       "      <th>unique</th>\n",
       "      <td>33</td>\n",
       "      <td>33</td>\n",
       "      <td>33</td>\n",
       "      <td>31</td>\n",
       "    </tr>\n",
       "    <tr>\n",
       "      <th>top</th>\n",
       "      <td>Irving Benson and Lillian</td>\n",
       "      <td>79 years, 306 days</td>\n",
       "      <td>November 19, 1936 – March 3, 2016 (her death)</td>\n",
       "      <td>Starr, Michael. \"Johnny Carson's favorite com...</td>\n",
       "    </tr>\n",
       "    <tr>\n",
       "      <th>freq</th>\n",
       "      <td>1</td>\n",
       "      <td>1</td>\n",
       "      <td>1</td>\n",
       "      <td>1</td>\n",
       "    </tr>\n",
       "  </tbody>\n",
       "</table>\n",
       "</div>"
      ],
      "text/plain": [
       "                            Names              Length  \\\n",
       "count                          33                  33   \n",
       "unique                         33                  33   \n",
       "top     Irving Benson and Lillian  79 years, 306 days   \n",
       "freq                            1                   1   \n",
       "\n",
       "                                             Marriage  \\\n",
       "count                                              33   \n",
       "unique                                             33   \n",
       "top     November 19, 1936 – March 3, 2016 (her death)   \n",
       "freq                                                1   \n",
       "\n",
       "                                                   Source  \n",
       "count                                                  31  \n",
       "unique                                                 31  \n",
       "top      Starr, Michael. \"Johnny Carson's favorite com...  \n",
       "freq                                                    1  "
      ]
     },
     "execution_count": 84,
     "metadata": {},
     "output_type": "execute_result"
    }
   ],
   "source": [
    "df.describe(include=object)"
   ]
  },
  {
   "cell_type": "code",
   "execution_count": 85,
   "id": "35fc7e62-8176-40a1-9532-389118a191b1",
   "metadata": {},
   "outputs": [
    {
     "data": {
      "text/plain": [
       "Index(['Names', 'Length', 'Marriage', 'Source'], dtype='object')"
      ]
     },
     "execution_count": 85,
     "metadata": {},
     "output_type": "execute_result"
    }
   ],
   "source": [
    "df.select_dtypes(include=object).columns"
   ]
  },
  {
   "cell_type": "code",
   "execution_count": 86,
   "id": "681e4ed6-e391-47e8-af9d-5072b62d2bbe",
   "metadata": {},
   "outputs": [
    {
     "data": {
      "text/plain": [
       "index       0\n",
       "Names       0\n",
       "Length      0\n",
       "Marriage    0\n",
       "Source      2\n",
       "dtype: int64"
      ]
     },
     "execution_count": 86,
     "metadata": {},
     "output_type": "execute_result"
    }
   ],
   "source": [
    "df.isnull().sum()\n"
   ]
  },
  {
   "cell_type": "code",
   "execution_count": 87,
   "id": "97283d24-9c37-4744-88b5-dd4d521e6930",
   "metadata": {},
   "outputs": [
    {
     "data": {
      "text/plain": [
       "0"
      ]
     },
     "execution_count": 87,
     "metadata": {},
     "output_type": "execute_result"
    }
   ],
   "source": [
    "df.duplicated().sum()"
   ]
  },
  {
   "cell_type": "code",
   "execution_count": 88,
   "id": "064fd433-d86b-4783-8ca5-c7b169dd4b76",
   "metadata": {},
   "outputs": [],
   "source": [
    "df[\"Source\"]=df[\"Source\"].fillna(method=\"ffill\")"
   ]
  },
  {
   "cell_type": "code",
   "execution_count": 89,
   "id": "50f12584-db86-42d4-bcb1-eea487d78ddc",
   "metadata": {},
   "outputs": [
    {
     "data": {
      "text/plain": [
       "0                            Irving Benson and Lillian\n",
       "1                         Norman Lloyd and Peggy Lloyd\n",
       "2                   Art Linkletter and Lois Linkletter\n",
       "3                       Karl Malden and Mona Greenberg\n",
       "4                         Anne Jackson and Eli Wallach\n",
       "5     William Schallert and Rosemarie D. \"Lia\" Waggner\n",
       "6                       Carl Reiner and Estelle Reiner\n",
       "7                  William Daniels and Bonnie Bartlett\n",
       "8                     Lydia Clarke and Charlton Heston\n",
       "9                   Eva Marie Saint and Jeffrey Hayden\n",
       "10                       Kirk Douglas and Anne Buydens\n",
       "11                  Dick Van Patten and Patricia Poole\n",
       "12                        Danny Aiello and Sandy Cohen\n",
       "13                Kristine Miller and William Schuyler\n",
       "14                        Jerry Stiller and Anne Meara\n",
       "15                       Larry Hagman and Maj Axelsson\n",
       "16                           Alan Alda and Arlene Alda\n",
       "17            William Christopher and Barbara O'Connor\n",
       "18                        James Garner and Lois Clarke\n",
       "19                            Ossie Davis and Ruby Dee\n",
       "20             Ann Blyth and Dr. James Vincent McNulty\n",
       "21                   Anne Jeffreys and Robert Sterling\n",
       "22                 Richard Benjamin and Paula Prentiss\n",
       "23                    Martin Sheen and Janet Templeton\n",
       "24                      Angela Lansbury and Peter Shaw\n",
       "25                      Bob Newhart and Virginia Quinn\n",
       "26            Francis Ford Coppola and Eleanor Coppola\n",
       "27                       Nancy Davis and Ronald Reagan\n",
       "28                          Mitzi Gaynor and Jack Bean\n",
       "29                Rance Howard and Jean Speegle Howard\n",
       "30                     Joanne Woodward and Paul Newman\n",
       "31                       Don Rickles and Barbara Sklar\n",
       "32                          Dolly Parton and Carl Dean\n",
       "Name: Names, dtype: object"
      ]
     },
     "execution_count": 89,
     "metadata": {},
     "output_type": "execute_result"
    }
   ],
   "source": [
    "df[\"Names\"]"
   ]
  },
  {
   "cell_type": "code",
   "execution_count": 90,
   "id": "e4f26316-5130-4a24-b5a5-7bffc1daa4d1",
   "metadata": {},
   "outputs": [
    {
     "name": "stdout",
     "output_type": "stream",
     "text": [
      "[73, 114, 118, 105, 110, 103, 32, 66, 101, 110, 115, 111, 110, 160, 97, 110, 100, 32, 76, 105, 108, 108, 105, 97, 110]\n"
     ]
    }
   ],
   "source": [
    "print([ord(c) for c in df[\"Names\"][0]])\n"
   ]
  },
  {
   "cell_type": "code",
   "execution_count": 91,
   "id": "ee400df6-8eb7-427e-9be8-0ed596005aff",
   "metadata": {},
   "outputs": [],
   "source": [
    "import re\n",
    "\n",
    "# Put spaces around \"and\" if missing\n",
    "df[\"Names\"] = df[\"Names\"].str.replace(r\"and\", \" and \", regex=True)\n",
    "\n",
    "# Remove any double spaces created\n",
    "df[\"Names\"] = df[\"Names\"].str.replace(r\"\\s+\", \" \", regex=True).str.strip()\n"
   ]
  },
  {
   "cell_type": "code",
   "execution_count": 92,
   "id": "170ef136-5b36-4647-a7d6-6f187cdcff39",
   "metadata": {},
   "outputs": [
    {
     "data": {
      "text/plain": [
       "0                            Irving Benson and Lillian\n",
       "1                         Norman Lloyd and Peggy Lloyd\n",
       "2                   Art Linkletter and Lois Linkletter\n",
       "3                       Karl Malden and Mona Greenberg\n",
       "4                         Anne Jackson and Eli Wallach\n",
       "5     William Schallert and Rosemarie D. \"Lia\" Waggner\n",
       "6                       Carl Reiner and Estelle Reiner\n",
       "7                  William Daniels and Bonnie Bartlett\n",
       "8                     Lydia Clarke and Charlton Heston\n",
       "9                   Eva Marie Saint and Jeffrey Hayden\n",
       "10                       Kirk Douglas and Anne Buydens\n",
       "11                  Dick Van Patten and Patricia Poole\n",
       "12                      Danny Aiello and S and y Cohen\n",
       "13                Kristine Miller and William Schuyler\n",
       "14                        Jerry Stiller and Anne Meara\n",
       "15                       Larry Hagman and Maj Axelsson\n",
       "16                           Alan Alda and Arlene Alda\n",
       "17            William Christopher and Barbara O'Connor\n",
       "18                        James Garner and Lois Clarke\n",
       "19                            Ossie Davis and Ruby Dee\n",
       "20             Ann Blyth and Dr. James Vincent McNulty\n",
       "21                   Anne Jeffreys and Robert Sterling\n",
       "22                 Richard Benjamin and Paula Prentiss\n",
       "23                    Martin Sheen and Janet Templeton\n",
       "24                      Angela Lansbury and Peter Shaw\n",
       "25                      Bob Newhart and Virginia Quinn\n",
       "26            Francis Ford Coppola and Eleanor Coppola\n",
       "27                       Nancy Davis and Ronald Reagan\n",
       "28                          Mitzi Gaynor and Jack Bean\n",
       "29                Rance Howard and Jean Speegle Howard\n",
       "30                     Joanne Woodward and Paul Newman\n",
       "31                       Don Rickles and Barbara Sklar\n",
       "32                          Dolly Parton and Carl Dean\n",
       "Name: Names, dtype: object"
      ]
     },
     "execution_count": 92,
     "metadata": {},
     "output_type": "execute_result"
    }
   ],
   "source": [
    "df[\"Names\"] "
   ]
  },
  {
   "cell_type": "code",
   "execution_count": 93,
   "id": "501135ff-963d-424a-8e54-839266adc0e4",
   "metadata": {},
   "outputs": [],
   "source": [
    "df[[\"Person1\", \"Person2\"]] = df[\"Names\"].str.split(\" and \", n=1, expand=True)\n"
   ]
  },
  {
   "cell_type": "code",
   "execution_count": 94,
   "id": "970053c1-90b0-4e6b-b646-881a796c47c1",
   "metadata": {},
   "outputs": [
    {
     "data": {
      "text/plain": [
       "0            Irving Benson\n",
       "1             Norman Lloyd\n",
       "2           Art Linkletter\n",
       "3              Karl Malden\n",
       "4             Anne Jackson\n",
       "5        William Schallert\n",
       "6              Carl Reiner\n",
       "7          William Daniels\n",
       "8             Lydia Clarke\n",
       "9          Eva Marie Saint\n",
       "10            Kirk Douglas\n",
       "11         Dick Van Patten\n",
       "12            Danny Aiello\n",
       "13         Kristine Miller\n",
       "14           Jerry Stiller\n",
       "15            Larry Hagman\n",
       "16               Alan Alda\n",
       "17     William Christopher\n",
       "18            James Garner\n",
       "19             Ossie Davis\n",
       "20               Ann Blyth\n",
       "21           Anne Jeffreys\n",
       "22        Richard Benjamin\n",
       "23            Martin Sheen\n",
       "24         Angela Lansbury\n",
       "25             Bob Newhart\n",
       "26    Francis Ford Coppola\n",
       "27             Nancy Davis\n",
       "28            Mitzi Gaynor\n",
       "29            Rance Howard\n",
       "30         Joanne Woodward\n",
       "31             Don Rickles\n",
       "32            Dolly Parton\n",
       "Name: Person1, dtype: object"
      ]
     },
     "execution_count": 94,
     "metadata": {},
     "output_type": "execute_result"
    }
   ],
   "source": [
    "df[\"Person1\"]"
   ]
  },
  {
   "cell_type": "code",
   "execution_count": 95,
   "id": "b30fc968-7351-4535-baf7-4696fee8fb70",
   "metadata": {},
   "outputs": [
    {
     "data": {
      "text/plain": [
       "0                        Lillian\n",
       "1                    Peggy Lloyd\n",
       "2                Lois Linkletter\n",
       "3                 Mona Greenberg\n",
       "4                    Eli Wallach\n",
       "5     Rosemarie D. \"Lia\" Waggner\n",
       "6                 Estelle Reiner\n",
       "7                Bonnie Bartlett\n",
       "8                Charlton Heston\n",
       "9                 Jeffrey Hayden\n",
       "10                  Anne Buydens\n",
       "11                Patricia Poole\n",
       "12                 S and y Cohen\n",
       "13              William Schuyler\n",
       "14                    Anne Meara\n",
       "15                  Maj Axelsson\n",
       "16                   Arlene Alda\n",
       "17              Barbara O'Connor\n",
       "18                   Lois Clarke\n",
       "19                      Ruby Dee\n",
       "20     Dr. James Vincent McNulty\n",
       "21               Robert Sterling\n",
       "22                Paula Prentiss\n",
       "23               Janet Templeton\n",
       "24                    Peter Shaw\n",
       "25                Virginia Quinn\n",
       "26               Eleanor Coppola\n",
       "27                 Ronald Reagan\n",
       "28                     Jack Bean\n",
       "29           Jean Speegle Howard\n",
       "30                   Paul Newman\n",
       "31                 Barbara Sklar\n",
       "32                     Carl Dean\n",
       "Name: Person2, dtype: object"
      ]
     },
     "execution_count": 95,
     "metadata": {},
     "output_type": "execute_result"
    }
   ],
   "source": [
    "df[\"Person2\"]"
   ]
  },
  {
   "cell_type": "markdown",
   "id": "78427e6b-d0da-4580-85b9-cccb00c45d4e",
   "metadata": {},
   "source": [
    "#### applying flames:"
   ]
  },
  {
   "cell_type": "code",
   "execution_count": 96,
   "id": "7172d348-6389-48a9-88c1-643e360ba40b",
   "metadata": {},
   "outputs": [
    {
     "name": "stdout",
     "output_type": "stream",
     "text": [
      "    index                                             Names  \\\n",
      "0       0                         Irving Benson and Lillian   \n",
      "1       1                      Norman Lloyd and Peggy Lloyd   \n",
      "2       2                Art Linkletter and Lois Linkletter   \n",
      "3       3                    Karl Malden and Mona Greenberg   \n",
      "4       4                      Anne Jackson and Eli Wallach   \n",
      "5       5  William Schallert and Rosemarie D. \"Lia\" Waggner   \n",
      "6       6                    Carl Reiner and Estelle Reiner   \n",
      "7       7               William Daniels and Bonnie Bartlett   \n",
      "8       8                  Lydia Clarke and Charlton Heston   \n",
      "9       9                Eva Marie Saint and Jeffrey Hayden   \n",
      "10     10                     Kirk Douglas and Anne Buydens   \n",
      "11     11                Dick Van Patten and Patricia Poole   \n",
      "12     12                    Danny Aiello and S and y Cohen   \n",
      "13     13              Kristine Miller and William Schuyler   \n",
      "14     14                      Jerry Stiller and Anne Meara   \n",
      "15     15                     Larry Hagman and Maj Axelsson   \n",
      "16     16                         Alan Alda and Arlene Alda   \n",
      "17     17          William Christopher and Barbara O'Connor   \n",
      "18     18                      James Garner and Lois Clarke   \n",
      "19     19                          Ossie Davis and Ruby Dee   \n",
      "20     20           Ann Blyth and Dr. James Vincent McNulty   \n",
      "21     21                 Anne Jeffreys and Robert Sterling   \n",
      "22     22               Richard Benjamin and Paula Prentiss   \n",
      "23     23                  Martin Sheen and Janet Templeton   \n",
      "24     24                    Angela Lansbury and Peter Shaw   \n",
      "25     25                    Bob Newhart and Virginia Quinn   \n",
      "26     26          Francis Ford Coppola and Eleanor Coppola   \n",
      "27     27                     Nancy Davis and Ronald Reagan   \n",
      "28     28                        Mitzi Gaynor and Jack Bean   \n",
      "29     29              Rance Howard and Jean Speegle Howard   \n",
      "30     30                   Joanne Woodward and Paul Newman   \n",
      "31     31                     Don Rickles and Barbara Sklar   \n",
      "32     32                        Dolly Parton and Carl Dean   \n",
      "\n",
      "                         Length  \\\n",
      "0            79 years, 306 days   \n",
      "1             75 years, 65 days   \n",
      "2   74 years, 5 months, 21 days   \n",
      "3   70 years, 6 months, 13 days   \n",
      "4            66 years, 111 days   \n",
      "5                     65 years+   \n",
      "6            64 years, 306 days   \n",
      "7             65 years, 82 days   \n",
      "8             64 years, 19 days   \n",
      "9            64 years, 328 days   \n",
      "10           62 years, 114 days   \n",
      "11            61 years, 59 days   \n",
      "12           61 years, 256 days   \n",
      "13           60 years, 136 days   \n",
      "14           60 years, 250 days   \n",
      "15           58 years, 341 days   \n",
      "16           59 years, 189 days   \n",
      "17                    58 years+   \n",
      "18           57 years, 336 days   \n",
      "19            57 years, 57 days   \n",
      "20           54 years, 320 days   \n",
      "21           54 years, 190 days   \n",
      "22           54 years, 330 days   \n",
      "23           54 years, 272 days   \n",
      "24           53 years, 170 days   \n",
      "25           53 years, 252 days   \n",
      "26           53 years, 231 days   \n",
      "27            52 years, 93 days   \n",
      "28            52 years, 16 days   \n",
      "29                     51 years   \n",
      "30           50 years, 241 days   \n",
      "31           51 years, 190 days   \n",
      "32           50 years, 113 days   \n",
      "\n",
      "                                             Marriage  \\\n",
      "0       November 19, 1936 – March 3, 2016 (her death)   \n",
      "1         June 26, 1936 – August 30, 2011 (her death)   \n",
      "2        November 25, 1935 – May 16, 2010 (his death)   \n",
      "3        December 18, 1938 – July 1, 2009 (his death)   \n",
      "4           March 5, 1948 – June 24, 2014 (his death)   \n",
      "5                                           1949−2015   \n",
      "6    December 24, 1943 − October 25, 2008 (her death)   \n",
      "7                             June 30, 1951 − present   \n",
      "8          March 17, 1944 − April 5, 2008 (his death)   \n",
      "9                          October 28, 1951 − present   \n",
      "10                             May 29, 1954 − present   \n",
      "11         April 25, 1954 − June 23, 2015 (his death)   \n",
      "12                          January 8, 1955 − present   \n",
      "13      July 27, 1953 − December 10, 2013 (his death)   \n",
      "14      September 14, 1954 – May 23, 2015 (her death)   \n",
      "15  December 18, 1954 − November 23, 2012 (his death)   \n",
      "16                           March 15, 1957 − present   \n",
      "17                                       1957−present   \n",
      "18        August 17, 1956 − July 19, 2014 (his death)   \n",
      "19    December 9, 1948 − February 4, 2005 (his death)   \n",
      "20           June 27, 1953 – May 13, 2007 (his death)   \n",
      "21       November 21, 1951 − May 30, 2006 (his death)   \n",
      "22                         October 26, 1961 − present   \n",
      "23                        December 23, 1961 − present   \n",
      "24     August 12, 1949 – January 29, 2003 (his death)   \n",
      "25                         January 12, 1963 − present   \n",
      "26                         February 2, 1963 − present   \n",
      "27           March 4, 1952 − June 5, 2004 (his death)   \n",
      "28   November 18, 1954 − December 4, 2006 (his death)   \n",
      "29               1949 − September 2, 2000 (her death)   \n",
      "30  January 29, 1958 − September 26, 2008 (his death)   \n",
      "31                           March 14, 1965 − present   \n",
      "32                             May 30, 1966 − present   \n",
      "\n",
      "                                               Source               Person1  \\\n",
      "0    Starr, Michael. \"Johnny Carson's favorite com...         Irving Benson   \n",
      "1    \"Broadway thesp Peggy Lloyd dies at 98\". Vari...          Norman Lloyd   \n",
      "2    \"Art Linkletter: \"no work, just fun\"\". CBC Ar...        Art Linkletter   \n",
      "3    \"Oscar-winning actor Karl Malden dies aged 97...           Karl Malden   \n",
      "4   http://www.nytimes.com/2010/11/07/movies/07wal...          Anne Jackson   \n",
      "5   http://pqasb.pqarchiver.com/latimes/doc/280966...     William Schallert   \n",
      "6    Lester, Shallon (2008-10-30). \"New York Daily...           Carl Reiner   \n",
      "7    \"Overview for William Daniels\". TCM. Retrieve...       William Daniels   \n",
      "8   Welkos, Robert W.; King, Susan (2008-04-06). \"...          Lydia Clarke   \n",
      "9    \"Broadway World on a joint-project they did\"....       Eva Marie Saint   \n",
      "10   Douglas, Family. \"Douglas History\". Douglas H...          Kirk Douglas   \n",
      "11  http://www.biography.com/people/dick-van-patte...       Dick Van Patten   \n",
      "12           \"Just who is Danny Aiello\" from CBS News          Danny Aiello   \n",
      "13  http://www.legacy.com/obituaries/montereyheral...       Kristine Miller   \n",
      "14   \"BBC article on their star on the Hollywood W...         Jerry Stiller   \n",
      "15   \"BBC article on their star on the Hollywood W...          Larry Hagman   \n",
      "16  http://edition.cnn.com/2005/SHOWBIZ/books/10/0...             Alan Alda   \n",
      "17   \"Christopher biography at Best Care Anywhere\"...   William Christopher   \n",
      "18   \"Christopher biography at Best Care Anywhere\"...          James Garner   \n",
      "19  The 15 Long Celebrity Marriages We Admire Most...           Ossie Davis   \n",
      "20  Obituary for Dr. James Vincent McNulty in The ...             Ann Blyth   \n",
      "21   Obituary of Robert Sterling in the New York T...         Anne Jeffreys   \n",
      "22  http://www.tcm.com/tcmdb/person/155097%7C12271...      Richard Benjamin   \n",
      "23  http://www.patheos.com/blogs/tinseltalk/2011/1...          Martin Sheen   \n",
      "24   \"Playbill obituary of Peter Shaw\". Playbill.c...       Angela Lansbury   \n",
      "25  http://www.miamiherald.com/2013/01/20/3189460/...           Bob Newhart   \n",
      "26   Book Review of \"Notes on a Life\" in The New Y...  Francis Ford Coppola   \n",
      "27  http://archive.boston.com/news/nation/articles...           Nancy Davis   \n",
      "28  \"Mitzi Gaynor still has 'Razzle Dazzle!'\" in t...          Mitzi Gaynor   \n",
      "29   \"Pittsburgh Post-Gazette obituary for Jean Sp...          Rance Howard   \n",
      "30  \"Obituary of Paul Newman in People magazine\". ...       Joanne Woodward   \n",
      "31    \"50th Anniversaries In 2015\". January 22, 2015.           Don Rickles   \n",
      "32  \"Dolly and Carl's 50th Wedding Anniversary\". M...          Dolly Parton   \n",
      "\n",
      "                       Person2 FLAMES_Result  \n",
      "0                      Lillian     Affection  \n",
      "1                  Peggy Lloyd      Marriage  \n",
      "2              Lois Linkletter         Enemy  \n",
      "3               Mona Greenberg     Affection  \n",
      "4                  Eli Wallach     Affection  \n",
      "5   Rosemarie D. \"Lia\" Waggner          Love  \n",
      "6               Estelle Reiner         Enemy  \n",
      "7              Bonnie Bartlett       Friends  \n",
      "8              Charlton Heston      Marriage  \n",
      "9               Jeffrey Hayden       Friends  \n",
      "10                Anne Buydens       Friends  \n",
      "11              Patricia Poole     Affection  \n",
      "12               S and y Cohen         Enemy  \n",
      "13            William Schuyler     Affection  \n",
      "14                  Anne Meara      Marriage  \n",
      "15                Maj Axelsson     Affection  \n",
      "16                 Arlene Alda         Enemy  \n",
      "17            Barbara O'Connor       Friends  \n",
      "18                 Lois Clarke     Affection  \n",
      "19                    Ruby Dee     Affection  \n",
      "20   Dr. James Vincent McNulty       Friends  \n",
      "21             Robert Sterling       Friends  \n",
      "22              Paula Prentiss       Friends  \n",
      "23             Janet Templeton      Marriage  \n",
      "24                  Peter Shaw      Marriage  \n",
      "25              Virginia Quinn     Affection  \n",
      "26             Eleanor Coppola          Love  \n",
      "27               Ronald Reagan     Affection  \n",
      "28                   Jack Bean      Marriage  \n",
      "29         Jean Speegle Howard          Love  \n",
      "30                 Paul Newman     Affection  \n",
      "31               Barbara Sklar       Friends  \n",
      "32                   Carl Dean         Enemy  \n",
      "    index                                             Names  \\\n",
      "0       0                         Irving Benson and Lillian   \n",
      "1       1                      Norman Lloyd and Peggy Lloyd   \n",
      "2       2                Art Linkletter and Lois Linkletter   \n",
      "3       3                    Karl Malden and Mona Greenberg   \n",
      "4       4                      Anne Jackson and Eli Wallach   \n",
      "5       5  William Schallert and Rosemarie D. \"Lia\" Waggner   \n",
      "6       6                    Carl Reiner and Estelle Reiner   \n",
      "7       7               William Daniels and Bonnie Bartlett   \n",
      "8       8                  Lydia Clarke and Charlton Heston   \n",
      "9       9                Eva Marie Saint and Jeffrey Hayden   \n",
      "10     10                     Kirk Douglas and Anne Buydens   \n",
      "11     11                Dick Van Patten and Patricia Poole   \n",
      "12     12                    Danny Aiello and S and y Cohen   \n",
      "13     13              Kristine Miller and William Schuyler   \n",
      "14     14                      Jerry Stiller and Anne Meara   \n",
      "15     15                     Larry Hagman and Maj Axelsson   \n",
      "16     16                         Alan Alda and Arlene Alda   \n",
      "17     17          William Christopher and Barbara O'Connor   \n",
      "18     18                      James Garner and Lois Clarke   \n",
      "19     19                          Ossie Davis and Ruby Dee   \n",
      "20     20           Ann Blyth and Dr. James Vincent McNulty   \n",
      "21     21                 Anne Jeffreys and Robert Sterling   \n",
      "22     22               Richard Benjamin and Paula Prentiss   \n",
      "23     23                  Martin Sheen and Janet Templeton   \n",
      "24     24                    Angela Lansbury and Peter Shaw   \n",
      "25     25                    Bob Newhart and Virginia Quinn   \n",
      "26     26          Francis Ford Coppola and Eleanor Coppola   \n",
      "27     27                     Nancy Davis and Ronald Reagan   \n",
      "28     28                        Mitzi Gaynor and Jack Bean   \n",
      "29     29              Rance Howard and Jean Speegle Howard   \n",
      "30     30                   Joanne Woodward and Paul Newman   \n",
      "31     31                     Don Rickles and Barbara Sklar   \n",
      "32     32                        Dolly Parton and Carl Dean   \n",
      "\n",
      "                         Length  \\\n",
      "0            79 years, 306 days   \n",
      "1             75 years, 65 days   \n",
      "2   74 years, 5 months, 21 days   \n",
      "3   70 years, 6 months, 13 days   \n",
      "4            66 years, 111 days   \n",
      "5                     65 years+   \n",
      "6            64 years, 306 days   \n",
      "7             65 years, 82 days   \n",
      "8             64 years, 19 days   \n",
      "9            64 years, 328 days   \n",
      "10           62 years, 114 days   \n",
      "11            61 years, 59 days   \n",
      "12           61 years, 256 days   \n",
      "13           60 years, 136 days   \n",
      "14           60 years, 250 days   \n",
      "15           58 years, 341 days   \n",
      "16           59 years, 189 days   \n",
      "17                    58 years+   \n",
      "18           57 years, 336 days   \n",
      "19            57 years, 57 days   \n",
      "20           54 years, 320 days   \n",
      "21           54 years, 190 days   \n",
      "22           54 years, 330 days   \n",
      "23           54 years, 272 days   \n",
      "24           53 years, 170 days   \n",
      "25           53 years, 252 days   \n",
      "26           53 years, 231 days   \n",
      "27            52 years, 93 days   \n",
      "28            52 years, 16 days   \n",
      "29                     51 years   \n",
      "30           50 years, 241 days   \n",
      "31           51 years, 190 days   \n",
      "32           50 years, 113 days   \n",
      "\n",
      "                                             Marriage  \\\n",
      "0       November 19, 1936 – March 3, 2016 (her death)   \n",
      "1         June 26, 1936 – August 30, 2011 (her death)   \n",
      "2        November 25, 1935 – May 16, 2010 (his death)   \n",
      "3        December 18, 1938 – July 1, 2009 (his death)   \n",
      "4           March 5, 1948 – June 24, 2014 (his death)   \n",
      "5                                           1949−2015   \n",
      "6    December 24, 1943 − October 25, 2008 (her death)   \n",
      "7                             June 30, 1951 − present   \n",
      "8          March 17, 1944 − April 5, 2008 (his death)   \n",
      "9                          October 28, 1951 − present   \n",
      "10                             May 29, 1954 − present   \n",
      "11         April 25, 1954 − June 23, 2015 (his death)   \n",
      "12                          January 8, 1955 − present   \n",
      "13      July 27, 1953 − December 10, 2013 (his death)   \n",
      "14      September 14, 1954 – May 23, 2015 (her death)   \n",
      "15  December 18, 1954 − November 23, 2012 (his death)   \n",
      "16                           March 15, 1957 − present   \n",
      "17                                       1957−present   \n",
      "18        August 17, 1956 − July 19, 2014 (his death)   \n",
      "19    December 9, 1948 − February 4, 2005 (his death)   \n",
      "20           June 27, 1953 – May 13, 2007 (his death)   \n",
      "21       November 21, 1951 − May 30, 2006 (his death)   \n",
      "22                         October 26, 1961 − present   \n",
      "23                        December 23, 1961 − present   \n",
      "24     August 12, 1949 – January 29, 2003 (his death)   \n",
      "25                         January 12, 1963 − present   \n",
      "26                         February 2, 1963 − present   \n",
      "27           March 4, 1952 − June 5, 2004 (his death)   \n",
      "28   November 18, 1954 − December 4, 2006 (his death)   \n",
      "29               1949 − September 2, 2000 (her death)   \n",
      "30  January 29, 1958 − September 26, 2008 (his death)   \n",
      "31                           March 14, 1965 − present   \n",
      "32                             May 30, 1966 − present   \n",
      "\n",
      "                                               Source               Person1  \\\n",
      "0    Starr, Michael. \"Johnny Carson's favorite com...         Irving Benson   \n",
      "1    \"Broadway thesp Peggy Lloyd dies at 98\". Vari...          Norman Lloyd   \n",
      "2    \"Art Linkletter: \"no work, just fun\"\". CBC Ar...        Art Linkletter   \n",
      "3    \"Oscar-winning actor Karl Malden dies aged 97...           Karl Malden   \n",
      "4   http://www.nytimes.com/2010/11/07/movies/07wal...          Anne Jackson   \n",
      "5   http://pqasb.pqarchiver.com/latimes/doc/280966...     William Schallert   \n",
      "6    Lester, Shallon (2008-10-30). \"New York Daily...           Carl Reiner   \n",
      "7    \"Overview for William Daniels\". TCM. Retrieve...       William Daniels   \n",
      "8   Welkos, Robert W.; King, Susan (2008-04-06). \"...          Lydia Clarke   \n",
      "9    \"Broadway World on a joint-project they did\"....       Eva Marie Saint   \n",
      "10   Douglas, Family. \"Douglas History\". Douglas H...          Kirk Douglas   \n",
      "11  http://www.biography.com/people/dick-van-patte...       Dick Van Patten   \n",
      "12           \"Just who is Danny Aiello\" from CBS News          Danny Aiello   \n",
      "13  http://www.legacy.com/obituaries/montereyheral...       Kristine Miller   \n",
      "14   \"BBC article on their star on the Hollywood W...         Jerry Stiller   \n",
      "15   \"BBC article on their star on the Hollywood W...          Larry Hagman   \n",
      "16  http://edition.cnn.com/2005/SHOWBIZ/books/10/0...             Alan Alda   \n",
      "17   \"Christopher biography at Best Care Anywhere\"...   William Christopher   \n",
      "18   \"Christopher biography at Best Care Anywhere\"...          James Garner   \n",
      "19  The 15 Long Celebrity Marriages We Admire Most...           Ossie Davis   \n",
      "20  Obituary for Dr. James Vincent McNulty in The ...             Ann Blyth   \n",
      "21   Obituary of Robert Sterling in the New York T...         Anne Jeffreys   \n",
      "22  http://www.tcm.com/tcmdb/person/155097%7C12271...      Richard Benjamin   \n",
      "23  http://www.patheos.com/blogs/tinseltalk/2011/1...          Martin Sheen   \n",
      "24   \"Playbill obituary of Peter Shaw\". Playbill.c...       Angela Lansbury   \n",
      "25  http://www.miamiherald.com/2013/01/20/3189460/...           Bob Newhart   \n",
      "26   Book Review of \"Notes on a Life\" in The New Y...  Francis Ford Coppola   \n",
      "27  http://archive.boston.com/news/nation/articles...           Nancy Davis   \n",
      "28  \"Mitzi Gaynor still has 'Razzle Dazzle!'\" in t...          Mitzi Gaynor   \n",
      "29   \"Pittsburgh Post-Gazette obituary for Jean Sp...          Rance Howard   \n",
      "30  \"Obituary of Paul Newman in People magazine\". ...       Joanne Woodward   \n",
      "31    \"50th Anniversaries In 2015\". January 22, 2015.           Don Rickles   \n",
      "32  \"Dolly and Carl's 50th Wedding Anniversary\". M...          Dolly Parton   \n",
      "\n",
      "                       Person2 FLAMES_Result  \n",
      "0                      Lillian     Affection  \n",
      "1                  Peggy Lloyd      Marriage  \n",
      "2              Lois Linkletter         Enemy  \n",
      "3               Mona Greenberg     Affection  \n",
      "4                  Eli Wallach     Affection  \n",
      "5   Rosemarie D. \"Lia\" Waggner          Love  \n",
      "6               Estelle Reiner         Enemy  \n",
      "7              Bonnie Bartlett       Friends  \n",
      "8              Charlton Heston      Marriage  \n",
      "9               Jeffrey Hayden       Friends  \n",
      "10                Anne Buydens       Friends  \n",
      "11              Patricia Poole     Affection  \n",
      "12               S and y Cohen         Enemy  \n",
      "13            William Schuyler     Affection  \n",
      "14                  Anne Meara      Marriage  \n",
      "15                Maj Axelsson     Affection  \n",
      "16                 Arlene Alda         Enemy  \n",
      "17            Barbara O'Connor       Friends  \n",
      "18                 Lois Clarke     Affection  \n",
      "19                    Ruby Dee     Affection  \n",
      "20   Dr. James Vincent McNulty       Friends  \n",
      "21             Robert Sterling       Friends  \n",
      "22              Paula Prentiss       Friends  \n",
      "23             Janet Templeton      Marriage  \n",
      "24                  Peter Shaw      Marriage  \n",
      "25              Virginia Quinn     Affection  \n",
      "26             Eleanor Coppola          Love  \n",
      "27               Ronald Reagan     Affection  \n",
      "28                   Jack Bean      Marriage  \n",
      "29         Jean Speegle Howard          Love  \n",
      "30                 Paul Newman     Affection  \n",
      "31               Barbara Sklar       Friends  \n",
      "32                   Carl Dean         Enemy  \n"
     ]
    }
   ],
   "source": [
    "import pandas as pd\n",
    "\n",
    "\n",
    "\n",
    "# FLAMES mapping\n",
    "flames_meaning = {\n",
    "    \"F\": \"Friends\",\n",
    "    \"L\": \"Love\",\n",
    "    \"A\": \"Affection\",\n",
    "    \"M\": \"Marriage\",\n",
    "    \"E\": \"Enemy\",\n",
    "    \"S\": \"Siblings\"\n",
    "}\n",
    "\n",
    "# Function to compute FLAMES\n",
    "def flames_game(first, second):\n",
    "    # Convert to list, remove spaces, lowercase\n",
    "    first_list = list(first.replace(\" \", \"\").lower())\n",
    "    second_list = list(second.replace(\" \", \"\").lower())\n",
    "\n",
    "    # Remove common letters\n",
    "    for ch in first_list[:]:\n",
    "        if ch in second_list:\n",
    "            first_list.remove(ch)\n",
    "            second_list.remove(ch)\n",
    "\n",
    "    # Count remaining letters\n",
    "    count = len(first_list) + len(second_list)\n",
    "\n",
    "    # FLAMES elimination\n",
    "    letters = [\"F\", \"L\", \"A\", \"M\", \"E\", \"S\"]\n",
    "    index = 0\n",
    "    while len(letters) > 1:\n",
    "        index = (index + count - 1) % len(letters)\n",
    "        letters.pop(index)\n",
    "\n",
    "    return flames_meaning[letters[0]]\n",
    "\n",
    "\n",
    "# Assuming df already has Person1 and Person2 columns with 34 rows\n",
    "df[\"FLAMES_Result\"] = df.apply(lambda x: flames_game(x[\"Person1\"], x[\"Person2\"]), axis=1)\n",
    "\n",
    "# View the full results\n",
    "print(df)\n",
    "\n",
    "# Show the result\n",
    "print(df)\n"
   ]
  },
  {
   "cell_type": "code",
   "execution_count": 97,
   "id": "3619cb03-20be-415a-ad29-5125e00d3ae2",
   "metadata": {},
   "outputs": [
    {
     "data": {
      "text/plain": [
       "0"
      ]
     },
     "execution_count": 97,
     "metadata": {},
     "output_type": "execute_result"
    }
   ],
   "source": [
    "df[\"Person1\"].isnull().sum()"
   ]
  },
  {
   "cell_type": "code",
   "execution_count": 98,
   "id": "e25e23be-5662-4287-8186-274b454312be",
   "metadata": {},
   "outputs": [
    {
     "data": {
      "text/plain": [
       "0"
      ]
     },
     "execution_count": 98,
     "metadata": {},
     "output_type": "execute_result"
    }
   ],
   "source": [
    "df[\"Person2\"].isnull().sum()"
   ]
  },
  {
   "cell_type": "code",
   "execution_count": 99,
   "id": "cc28caac-2284-405a-8584-4a422e19a261",
   "metadata": {},
   "outputs": [
    {
     "name": "stdout",
     "output_type": "stream",
     "text": [
      "Person1 NaNs: 0\n",
      "Person2 NaNs: 0\n"
     ]
    }
   ],
   "source": [
    "print(\"Person1 NaNs:\", df[\"Person1\"].isna().sum())\n",
    "print(\"Person2 NaNs:\", df[\"Person2\"].isna().sum())\n"
   ]
  },
  {
   "cell_type": "code",
   "execution_count": 100,
   "id": "b63f63ba-6d53-4225-8654-316c7aa9a965",
   "metadata": {},
   "outputs": [
    {
     "name": "stdout",
     "output_type": "stream",
     "text": [
      "Person1 leading/trailing spaces: 0\n",
      "Person2 leading/trailing spaces: 0\n",
      "Person1 multiple spaces inside: 0\n",
      "Person2 multiple spaces inside: 0\n",
      "Person1 non-breaking spaces: 0\n",
      "Person2 non-breaking spaces: 0\n"
     ]
    }
   ],
   "source": [
    "# Check for leading/trailing spaces\n",
    "print(\"Person1 leading/trailing spaces:\", df[\"Person1\"].str.startswith(\" \").sum() + df[\"Person1\"].str.endswith(\" \").sum())\n",
    "print(\"Person2 leading/trailing spaces:\", df[\"Person2\"].str.startswith(\" \").sum() + df[\"Person2\"].str.endswith(\" \").sum())\n",
    "\n",
    "# Check for multiple spaces inside\n",
    "print(\"Person1 multiple spaces inside:\", df[\"Person1\"].str.contains(\"  \").sum())\n",
    "print(\"Person2 multiple spaces inside:\", df[\"Person2\"].str.contains(\"  \").sum())\n",
    "\n",
    "# Check for hidden non-breaking spaces (\\xa0)\n",
    "print(\"Person1 non-breaking spaces:\", df[\"Person1\"].str.contains(\"\\xa0\").sum())\n",
    "print(\"Person2 non-breaking spaces:\", df[\"Person2\"].str.contains(\"\\xa0\").sum())\n"
   ]
  },
  {
   "cell_type": "code",
   "execution_count": 101,
   "id": "5b8f4b94-290f-4cb1-9e4b-d423ff40ad21",
   "metadata": {},
   "outputs": [],
   "source": [
    "list = df[\"Person1\"].tolist()  # or similar\n"
   ]
  },
  {
   "cell_type": "code",
   "execution_count": 102,
   "id": "f7ad7abc-8fb9-40df-9e64-ff5b0b323fd2",
   "metadata": {},
   "outputs": [],
   "source": [
    "del list  # remove the variable that shadowed the built-in\n"
   ]
  },
  {
   "cell_type": "code",
   "execution_count": 103,
   "id": "a61e1288-98ab-421d-9a3c-572827699670",
   "metadata": {},
   "outputs": [
    {
     "name": "stdout",
     "output_type": "stream",
     "text": [
      "    index                                             Names  \\\n",
      "0       0                         Irving Benson and Lillian   \n",
      "1       1                      Norman Lloyd and Peggy Lloyd   \n",
      "2       2                Art Linkletter and Lois Linkletter   \n",
      "3       3                    Karl Malden and Mona Greenberg   \n",
      "4       4                      Anne Jackson and Eli Wallach   \n",
      "5       5  William Schallert and Rosemarie D. \"Lia\" Waggner   \n",
      "6       6                    Carl Reiner and Estelle Reiner   \n",
      "7       7               William Daniels and Bonnie Bartlett   \n",
      "8       8                  Lydia Clarke and Charlton Heston   \n",
      "9       9                Eva Marie Saint and Jeffrey Hayden   \n",
      "10     10                     Kirk Douglas and Anne Buydens   \n",
      "11     11                Dick Van Patten and Patricia Poole   \n",
      "12     12                    Danny Aiello and S and y Cohen   \n",
      "13     13              Kristine Miller and William Schuyler   \n",
      "14     14                      Jerry Stiller and Anne Meara   \n",
      "15     15                     Larry Hagman and Maj Axelsson   \n",
      "16     16                         Alan Alda and Arlene Alda   \n",
      "17     17          William Christopher and Barbara O'Connor   \n",
      "18     18                      James Garner and Lois Clarke   \n",
      "19     19                          Ossie Davis and Ruby Dee   \n",
      "20     20           Ann Blyth and Dr. James Vincent McNulty   \n",
      "21     21                 Anne Jeffreys and Robert Sterling   \n",
      "22     22               Richard Benjamin and Paula Prentiss   \n",
      "23     23                  Martin Sheen and Janet Templeton   \n",
      "24     24                    Angela Lansbury and Peter Shaw   \n",
      "25     25                    Bob Newhart and Virginia Quinn   \n",
      "26     26          Francis Ford Coppola and Eleanor Coppola   \n",
      "27     27                     Nancy Davis and Ronald Reagan   \n",
      "28     28                        Mitzi Gaynor and Jack Bean   \n",
      "29     29              Rance Howard and Jean Speegle Howard   \n",
      "30     30                   Joanne Woodward and Paul Newman   \n",
      "31     31                     Don Rickles and Barbara Sklar   \n",
      "32     32                        Dolly Parton and Carl Dean   \n",
      "\n",
      "                         Length  \\\n",
      "0            79 years, 306 days   \n",
      "1             75 years, 65 days   \n",
      "2   74 years, 5 months, 21 days   \n",
      "3   70 years, 6 months, 13 days   \n",
      "4            66 years, 111 days   \n",
      "5                     65 years+   \n",
      "6            64 years, 306 days   \n",
      "7             65 years, 82 days   \n",
      "8             64 years, 19 days   \n",
      "9            64 years, 328 days   \n",
      "10           62 years, 114 days   \n",
      "11            61 years, 59 days   \n",
      "12           61 years, 256 days   \n",
      "13           60 years, 136 days   \n",
      "14           60 years, 250 days   \n",
      "15           58 years, 341 days   \n",
      "16           59 years, 189 days   \n",
      "17                    58 years+   \n",
      "18           57 years, 336 days   \n",
      "19            57 years, 57 days   \n",
      "20           54 years, 320 days   \n",
      "21           54 years, 190 days   \n",
      "22           54 years, 330 days   \n",
      "23           54 years, 272 days   \n",
      "24           53 years, 170 days   \n",
      "25           53 years, 252 days   \n",
      "26           53 years, 231 days   \n",
      "27            52 years, 93 days   \n",
      "28            52 years, 16 days   \n",
      "29                     51 years   \n",
      "30           50 years, 241 days   \n",
      "31           51 years, 190 days   \n",
      "32           50 years, 113 days   \n",
      "\n",
      "                                             Marriage  \\\n",
      "0       November 19, 1936 – March 3, 2016 (her death)   \n",
      "1         June 26, 1936 – August 30, 2011 (her death)   \n",
      "2        November 25, 1935 – May 16, 2010 (his death)   \n",
      "3        December 18, 1938 – July 1, 2009 (his death)   \n",
      "4           March 5, 1948 – June 24, 2014 (his death)   \n",
      "5                                           1949−2015   \n",
      "6    December 24, 1943 − October 25, 2008 (her death)   \n",
      "7                             June 30, 1951 − present   \n",
      "8          March 17, 1944 − April 5, 2008 (his death)   \n",
      "9                          October 28, 1951 − present   \n",
      "10                             May 29, 1954 − present   \n",
      "11         April 25, 1954 − June 23, 2015 (his death)   \n",
      "12                          January 8, 1955 − present   \n",
      "13      July 27, 1953 − December 10, 2013 (his death)   \n",
      "14      September 14, 1954 – May 23, 2015 (her death)   \n",
      "15  December 18, 1954 − November 23, 2012 (his death)   \n",
      "16                           March 15, 1957 − present   \n",
      "17                                       1957−present   \n",
      "18        August 17, 1956 − July 19, 2014 (his death)   \n",
      "19    December 9, 1948 − February 4, 2005 (his death)   \n",
      "20           June 27, 1953 – May 13, 2007 (his death)   \n",
      "21       November 21, 1951 − May 30, 2006 (his death)   \n",
      "22                         October 26, 1961 − present   \n",
      "23                        December 23, 1961 − present   \n",
      "24     August 12, 1949 – January 29, 2003 (his death)   \n",
      "25                         January 12, 1963 − present   \n",
      "26                         February 2, 1963 − present   \n",
      "27           March 4, 1952 − June 5, 2004 (his death)   \n",
      "28   November 18, 1954 − December 4, 2006 (his death)   \n",
      "29               1949 − September 2, 2000 (her death)   \n",
      "30  January 29, 1958 − September 26, 2008 (his death)   \n",
      "31                           March 14, 1965 − present   \n",
      "32                             May 30, 1966 − present   \n",
      "\n",
      "                                               Source               Person1  \\\n",
      "0    Starr, Michael. \"Johnny Carson's favorite com...         Irving Benson   \n",
      "1    \"Broadway thesp Peggy Lloyd dies at 98\". Vari...          Norman Lloyd   \n",
      "2    \"Art Linkletter: \"no work, just fun\"\". CBC Ar...        Art Linkletter   \n",
      "3    \"Oscar-winning actor Karl Malden dies aged 97...           Karl Malden   \n",
      "4   http://www.nytimes.com/2010/11/07/movies/07wal...          Anne Jackson   \n",
      "5   http://pqasb.pqarchiver.com/latimes/doc/280966...     William Schallert   \n",
      "6    Lester, Shallon (2008-10-30). \"New York Daily...           Carl Reiner   \n",
      "7    \"Overview for William Daniels\". TCM. Retrieve...       William Daniels   \n",
      "8   Welkos, Robert W.; King, Susan (2008-04-06). \"...          Lydia Clarke   \n",
      "9    \"Broadway World on a joint-project they did\"....       Eva Marie Saint   \n",
      "10   Douglas, Family. \"Douglas History\". Douglas H...          Kirk Douglas   \n",
      "11  http://www.biography.com/people/dick-van-patte...       Dick Van Patten   \n",
      "12           \"Just who is Danny Aiello\" from CBS News          Danny Aiello   \n",
      "13  http://www.legacy.com/obituaries/montereyheral...       Kristine Miller   \n",
      "14   \"BBC article on their star on the Hollywood W...         Jerry Stiller   \n",
      "15   \"BBC article on their star on the Hollywood W...          Larry Hagman   \n",
      "16  http://edition.cnn.com/2005/SHOWBIZ/books/10/0...             Alan Alda   \n",
      "17   \"Christopher biography at Best Care Anywhere\"...   William Christopher   \n",
      "18   \"Christopher biography at Best Care Anywhere\"...          James Garner   \n",
      "19  The 15 Long Celebrity Marriages We Admire Most...           Ossie Davis   \n",
      "20  Obituary for Dr. James Vincent McNulty in The ...             Ann Blyth   \n",
      "21   Obituary of Robert Sterling in the New York T...         Anne Jeffreys   \n",
      "22  http://www.tcm.com/tcmdb/person/155097%7C12271...      Richard Benjamin   \n",
      "23  http://www.patheos.com/blogs/tinseltalk/2011/1...          Martin Sheen   \n",
      "24   \"Playbill obituary of Peter Shaw\". Playbill.c...       Angela Lansbury   \n",
      "25  http://www.miamiherald.com/2013/01/20/3189460/...           Bob Newhart   \n",
      "26   Book Review of \"Notes on a Life\" in The New Y...  Francis Ford Coppola   \n",
      "27  http://archive.boston.com/news/nation/articles...           Nancy Davis   \n",
      "28  \"Mitzi Gaynor still has 'Razzle Dazzle!'\" in t...          Mitzi Gaynor   \n",
      "29   \"Pittsburgh Post-Gazette obituary for Jean Sp...          Rance Howard   \n",
      "30  \"Obituary of Paul Newman in People magazine\". ...       Joanne Woodward   \n",
      "31    \"50th Anniversaries In 2015\". January 22, 2015.           Don Rickles   \n",
      "32  \"Dolly and Carl's 50th Wedding Anniversary\". M...          Dolly Parton   \n",
      "\n",
      "                       Person2 FLAMES_Result  \n",
      "0                      Lillian     Affection  \n",
      "1                  Peggy Lloyd      Marriage  \n",
      "2              Lois Linkletter         Enemy  \n",
      "3               Mona Greenberg     Affection  \n",
      "4                  Eli Wallach     Affection  \n",
      "5   Rosemarie D. \"Lia\" Waggner          Love  \n",
      "6               Estelle Reiner         Enemy  \n",
      "7              Bonnie Bartlett       Friends  \n",
      "8              Charlton Heston      Marriage  \n",
      "9               Jeffrey Hayden       Friends  \n",
      "10                Anne Buydens       Friends  \n",
      "11              Patricia Poole     Affection  \n",
      "12               S and y Cohen         Enemy  \n",
      "13            William Schuyler     Affection  \n",
      "14                  Anne Meara      Marriage  \n",
      "15                Maj Axelsson     Affection  \n",
      "16                 Arlene Alda         Enemy  \n",
      "17            Barbara O'Connor       Friends  \n",
      "18                 Lois Clarke     Affection  \n",
      "19                    Ruby Dee     Affection  \n",
      "20   Dr. James Vincent McNulty       Friends  \n",
      "21             Robert Sterling       Friends  \n",
      "22              Paula Prentiss       Friends  \n",
      "23             Janet Templeton      Marriage  \n",
      "24                  Peter Shaw      Marriage  \n",
      "25              Virginia Quinn     Affection  \n",
      "26             Eleanor Coppola          Love  \n",
      "27               Ronald Reagan     Affection  \n",
      "28                   Jack Bean      Marriage  \n",
      "29         Jean Speegle Howard          Love  \n",
      "30                 Paul Newman     Affection  \n",
      "31               Barbara Sklar       Friends  \n",
      "32                   Carl Dean         Enemy  \n"
     ]
    }
   ],
   "source": [
    "# Ensure everything is string type\n",
    "df[\"Person1\"] = df[\"Person1\"].astype(str)\n",
    "df[\"Person2\"] = df[\"Person2\"].astype(str)\n",
    "\n",
    "# FLAMES mapping\n",
    "flames_meaning = {\n",
    "    \"F\": \"Friends\",\n",
    "    \"L\": \"Love\",\n",
    "    \"A\": \"Affection\",\n",
    "    \"M\": \"Marriage\",\n",
    "    \"E\": \"Enemy\",\n",
    "    \"S\": \"Siblings\"\n",
    "}\n",
    "\n",
    "# FLAMES function\n",
    "def flames_game(first, second):\n",
    "    first_list = list(first.replace(\" \", \"\").lower())\n",
    "    second_list = list(second.replace(\" \", \"\").lower())\n",
    "\n",
    "    # Remove common letters\n",
    "    for ch in first_list[:]:\n",
    "        if ch in second_list:\n",
    "            first_list.remove(ch)\n",
    "            second_list.remove(ch)\n",
    "\n",
    "    count = len(first_list) + len(second_list)\n",
    "    letters = [\"F\", \"L\", \"A\", \"M\", \"E\", \"S\"]\n",
    "    index = 0\n",
    "\n",
    "    while len(letters) > 1:\n",
    "        index = (index + count - 1) % len(letters)\n",
    "        letters.pop(index)\n",
    "\n",
    "    return flames_meaning[letters[0]]\n",
    "\n",
    "# Compute FLAMES for all rows\n",
    "df[\"FLAMES_Result\"] = df.apply(lambda x: flames_game(x[\"Person1\"], x[\"Person2\"]), axis=1)\n",
    "\n",
    "# Show result\n",
    "print(df)\n"
   ]
  },
  {
   "cell_type": "code",
   "execution_count": 104,
   "id": "ccfa3019-b6a8-4678-ad54-be00b75dbef2",
   "metadata": {},
   "outputs": [
    {
     "data": {
      "text/plain": [
       "0     Affection\n",
       "1      Marriage\n",
       "2         Enemy\n",
       "3     Affection\n",
       "4     Affection\n",
       "5          Love\n",
       "6         Enemy\n",
       "7       Friends\n",
       "8      Marriage\n",
       "9       Friends\n",
       "10      Friends\n",
       "11    Affection\n",
       "12        Enemy\n",
       "13    Affection\n",
       "14     Marriage\n",
       "15    Affection\n",
       "16        Enemy\n",
       "17      Friends\n",
       "18    Affection\n",
       "19    Affection\n",
       "20      Friends\n",
       "21      Friends\n",
       "22      Friends\n",
       "23     Marriage\n",
       "24     Marriage\n",
       "25    Affection\n",
       "26         Love\n",
       "27    Affection\n",
       "28     Marriage\n",
       "29         Love\n",
       "30    Affection\n",
       "31      Friends\n",
       "32        Enemy\n",
       "Name: FLAMES_Result, dtype: object"
      ]
     },
     "execution_count": 104,
     "metadata": {},
     "output_type": "execute_result"
    }
   ],
   "source": [
    "df[\"FLAMES_Result\"]"
   ]
  },
  {
   "cell_type": "code",
   "execution_count": 105,
   "id": "8f1bd138-b018-4563-88fd-59417f96d31f",
   "metadata": {},
   "outputs": [
    {
     "data": {
      "text/plain": [
       "0         November 19, 1936 – March 3, 2016 (her death)\n",
       "1           June 26, 1936 – August 30, 2011 (her death)\n",
       "2          November 25, 1935 – May 16, 2010 (his death)\n",
       "3          December 18, 1938 – July 1, 2009 (his death)\n",
       "4             March 5, 1948 – June 24, 2014 (his death)\n",
       "5                                             1949−2015\n",
       "6      December 24, 1943 − October 25, 2008 (her death)\n",
       "7                               June 30, 1951 − present\n",
       "8            March 17, 1944 − April 5, 2008 (his death)\n",
       "9                            October 28, 1951 − present\n",
       "10                               May 29, 1954 − present\n",
       "11           April 25, 1954 − June 23, 2015 (his death)\n",
       "12                            January 8, 1955 − present\n",
       "13        July 27, 1953 − December 10, 2013 (his death)\n",
       "14        September 14, 1954 – May 23, 2015 (her death)\n",
       "15    December 18, 1954 − November 23, 2012 (his death)\n",
       "16                             March 15, 1957 − present\n",
       "17                                         1957−present\n",
       "18          August 17, 1956 − July 19, 2014 (his death)\n",
       "19      December 9, 1948 − February 4, 2005 (his death)\n",
       "20             June 27, 1953 – May 13, 2007 (his death)\n",
       "21         November 21, 1951 − May 30, 2006 (his death)\n",
       "22                           October 26, 1961 − present\n",
       "23                          December 23, 1961 − present\n",
       "24       August 12, 1949 – January 29, 2003 (his death)\n",
       "25                           January 12, 1963 − present\n",
       "26                           February 2, 1963 − present\n",
       "27             March 4, 1952 − June 5, 2004 (his death)\n",
       "28     November 18, 1954 − December 4, 2006 (his death)\n",
       "29                 1949 − September 2, 2000 (her death)\n",
       "30    January 29, 1958 − September 26, 2008 (his death)\n",
       "31                             March 14, 1965 − present\n",
       "32                               May 30, 1966 − present\n",
       "Name: Marriage, dtype: object"
      ]
     },
     "execution_count": 105,
     "metadata": {},
     "output_type": "execute_result"
    }
   ],
   "source": [
    "df[\"Marriage\"]"
   ]
  },
  {
   "cell_type": "code",
   "execution_count": 106,
   "id": "55aab9e1-f17d-4485-84c3-37a674cbf62c",
   "metadata": {},
   "outputs": [
    {
     "data": {
      "text/plain": [
       "0              79 years, 306 days\n",
       "1               75 years, 65 days\n",
       "2     74 years, 5 months, 21 days\n",
       "3     70 years, 6 months, 13 days\n",
       "4              66 years, 111 days\n",
       "5                       65 years+\n",
       "6              64 years, 306 days\n",
       "7               65 years, 82 days\n",
       "8               64 years, 19 days\n",
       "9              64 years, 328 days\n",
       "10             62 years, 114 days\n",
       "11              61 years, 59 days\n",
       "12             61 years, 256 days\n",
       "13             60 years, 136 days\n",
       "14             60 years, 250 days\n",
       "15             58 years, 341 days\n",
       "16             59 years, 189 days\n",
       "17                      58 years+\n",
       "18             57 years, 336 days\n",
       "19              57 years, 57 days\n",
       "20             54 years, 320 days\n",
       "21             54 years, 190 days\n",
       "22             54 years, 330 days\n",
       "23             54 years, 272 days\n",
       "24             53 years, 170 days\n",
       "25             53 years, 252 days\n",
       "26             53 years, 231 days\n",
       "27              52 years, 93 days\n",
       "28              52 years, 16 days\n",
       "29                       51 years\n",
       "30             50 years, 241 days\n",
       "31             51 years, 190 days\n",
       "32             50 years, 113 days\n",
       "Name: Length, dtype: object"
      ]
     },
     "execution_count": 106,
     "metadata": {},
     "output_type": "execute_result"
    }
   ],
   "source": [
    "df[\"Length\"]"
   ]
  },
  {
   "cell_type": "code",
   "execution_count": 107,
   "id": "605249f8-e0f6-4bc4-b6bc-dbbdea2ba74d",
   "metadata": {},
   "outputs": [
    {
     "name": "stdout",
     "output_type": "stream",
     "text": [
      "Number of NaNs in Length column: 0\n"
     ]
    }
   ],
   "source": [
    "\n",
    "print(\"Number of NaNs in Length column:\", df[\"Length\"].isna().sum())\n"
   ]
  },
  {
   "cell_type": "code",
   "execution_count": 108,
   "id": "d1bec447-a50c-46ee-b903-eed7888f0448",
   "metadata": {},
   "outputs": [
    {
     "name": "stdout",
     "output_type": "stream",
     "text": [
      "Number of NaNs in Length column: 0\n"
     ]
    }
   ],
   "source": [
    "\n",
    "print(\"Number of NaNs in Length column:\", df[\"Length\"].isnull().sum())\n"
   ]
  },
  {
   "cell_type": "code",
   "execution_count": 115,
   "id": "ad9617ef-0f0f-4f90-b35f-a8f3f10cb367",
   "metadata": {},
   "outputs": [
    {
     "name": "stdout",
     "output_type": "stream",
     "text": [
      "                                               Names  \\\n",
      "0                          Irving Benson and Lillian   \n",
      "1                       Norman Lloyd and Peggy Lloyd   \n",
      "2                 Art Linkletter and Lois Linkletter   \n",
      "3                     Karl Malden and Mona Greenberg   \n",
      "4                       Anne Jackson and Eli Wallach   \n",
      "5   William Schallert and Rosemarie D. \"Lia\" Waggner   \n",
      "6                     Carl Reiner and Estelle Reiner   \n",
      "7                William Daniels and Bonnie Bartlett   \n",
      "8                   Lydia Clarke and Charlton Heston   \n",
      "9                 Eva Marie Saint and Jeffrey Hayden   \n",
      "10                     Kirk Douglas and Anne Buydens   \n",
      "11                Dick Van Patten and Patricia Poole   \n",
      "12                    Danny Aiello and S and y Cohen   \n",
      "13              Kristine Miller and William Schuyler   \n",
      "14                      Jerry Stiller and Anne Meara   \n",
      "15                     Larry Hagman and Maj Axelsson   \n",
      "16                         Alan Alda and Arlene Alda   \n",
      "17          William Christopher and Barbara O'Connor   \n",
      "18                      James Garner and Lois Clarke   \n",
      "19                          Ossie Davis and Ruby Dee   \n",
      "20           Ann Blyth and Dr. James Vincent McNulty   \n",
      "21                 Anne Jeffreys and Robert Sterling   \n",
      "22               Richard Benjamin and Paula Prentiss   \n",
      "23                  Martin Sheen and Janet Templeton   \n",
      "24                    Angela Lansbury and Peter Shaw   \n",
      "25                    Bob Newhart and Virginia Quinn   \n",
      "26          Francis Ford Coppola and Eleanor Coppola   \n",
      "27                     Nancy Davis and Ronald Reagan   \n",
      "28                        Mitzi Gaynor and Jack Bean   \n",
      "29              Rance Howard and Jean Speegle Howard   \n",
      "30                   Joanne Woodward and Paul Newman   \n",
      "31                     Don Rickles and Barbara Sklar   \n",
      "32                        Dolly Parton and Carl Dean   \n",
      "\n",
      "                         Length  Length_Days  \n",
      "0            79 years, 306 days        29141  \n",
      "1             75 years, 65 days        27440  \n",
      "2   74 years, 5 months, 21 days        27031  \n",
      "3   70 years, 6 months, 13 days        25563  \n",
      "4            66 years, 111 days        24201  \n",
      "5                     65 years+        23725  \n",
      "6            64 years, 306 days        23666  \n",
      "7             65 years, 82 days        23807  \n",
      "8             64 years, 19 days        23379  \n",
      "9            64 years, 328 days        23688  \n",
      "10           62 years, 114 days        22744  \n",
      "11            61 years, 59 days        22324  \n",
      "12           61 years, 256 days        22521  \n",
      "13           60 years, 136 days        22036  \n",
      "14           60 years, 250 days        22150  \n",
      "15           58 years, 341 days        21511  \n",
      "16           59 years, 189 days        21724  \n",
      "17                    58 years+        21170  \n",
      "18           57 years, 336 days        21141  \n",
      "19            57 years, 57 days        20862  \n",
      "20           54 years, 320 days        20030  \n",
      "21           54 years, 190 days        19900  \n",
      "22           54 years, 330 days        20040  \n",
      "23           54 years, 272 days        19982  \n",
      "24           53 years, 170 days        19515  \n",
      "25           53 years, 252 days        19597  \n",
      "26           53 years, 231 days        19576  \n",
      "27            52 years, 93 days        19073  \n",
      "28            52 years, 16 days        18996  \n",
      "29                     51 years        18615  \n",
      "30           50 years, 241 days        18491  \n",
      "31           51 years, 190 days        18805  \n",
      "32           50 years, 113 days        18363  \n"
     ]
    },
    {
     "data": {
      "text/plain": [
       "' Part\\tMeaning\\n\\\\d+\\tOne or more digits (0–9)\\n()\\tCapturing group → allows us to extract the digits matched\\n\\\\s*\\tZero or more whitespace characters (space, tab)\\nyears\\tLiteral word \"years'"
      ]
     },
     "execution_count": 115,
     "metadata": {},
     "output_type": "execute_result"
    }
   ],
   "source": [
    "import re #Python’s regular expression module.\n",
    "\n",
    "def length_to_days(length_str):\n",
    "    if pd.isna(length_str) or length_str.strip() == \"\":\n",
    "        return 0  # just in case\n",
    "\n",
    "    # Extract years\n",
    "    years_match = re.search(r\"(\\d+)\\s*years\", length_str)\n",
    "    years = int(years_match.group(1)) if years_match else 0  \n",
    "    \n",
    "\n",
    "\n",
    "    # Extract days\n",
    "    days_match = re.search(r\"(\\d+)\\s*days\", length_str)\n",
    "    days = int(days_match.group(1)) if days_match else 0\n",
    "\n",
    "    total_days = years * 365 + days\n",
    "    return total_days\n",
    "\n",
    "# Apply to dataframe\n",
    "df[\"Length_Days\"] = df[\"Length\"].apply(length_to_days)\n",
    "\n",
    "# See the result\n",
    "print(df[[\"Names\", \"Length\", \"Length_Days\"]])\n",
    "\n",
    "\"\"\" Part\tMeaning\n",
    "\\d+\tOne or more digits (0–9)\n",
    "()\tCapturing group → allows us to extract the digits matched\n",
    "\\s*\tZero or more whitespace characters (space, tab)\n",
    "years\tLiteral word \"years\"\"\"\n"
   ]
  },
  {
   "cell_type": "code",
   "execution_count": 116,
   "id": "1cc49034-26c6-48d6-9247-2d684447bb68",
   "metadata": {},
   "outputs": [],
   "source": [
    "##df[\"Successfull\"]=\"yes\" if df[\"Length_Days\"]>9125 else \"no\""
   ]
  },
  {
   "cell_type": "code",
   "execution_count": 117,
   "id": "3d2e1431-7b78-4158-9f6d-f18cc50c8add",
   "metadata": {},
   "outputs": [],
   "source": [
    "df[\"Successful\"] = np.where(df[\"Length_Days\"] > 9125, \"yes\", \"no\")\n",
    "#df[\"Successful\"] = df[\"Length_Days\"].apply(lambda x: \"yes\" if x > 9125 else \"no\")\n"
   ]
  },
  {
   "cell_type": "code",
   "execution_count": 118,
   "id": "3f3391c8-4dfd-42b1-817d-eeb87e290111",
   "metadata": {},
   "outputs": [
    {
     "data": {
      "text/plain": [
       "0     yes\n",
       "1     yes\n",
       "2     yes\n",
       "3     yes\n",
       "4     yes\n",
       "5     yes\n",
       "6     yes\n",
       "7     yes\n",
       "8     yes\n",
       "9     yes\n",
       "10    yes\n",
       "11    yes\n",
       "12    yes\n",
       "13    yes\n",
       "14    yes\n",
       "15    yes\n",
       "16    yes\n",
       "17    yes\n",
       "18    yes\n",
       "19    yes\n",
       "20    yes\n",
       "21    yes\n",
       "22    yes\n",
       "23    yes\n",
       "24    yes\n",
       "25    yes\n",
       "26    yes\n",
       "27    yes\n",
       "28    yes\n",
       "29    yes\n",
       "30    yes\n",
       "31    yes\n",
       "32    yes\n",
       "Name: Successful, dtype: object"
      ]
     },
     "execution_count": 118,
     "metadata": {},
     "output_type": "execute_result"
    }
   ],
   "source": [
    "df[\"Successful\"]"
   ]
  },
  {
   "cell_type": "code",
   "execution_count": 119,
   "id": "453dd607-0f3f-493b-b105-5b8535012e8f",
   "metadata": {},
   "outputs": [
    {
     "data": {
      "text/plain": [
       "Successful  FLAMES_Result\n",
       "yes         Affection        11\n",
       "            Friends           8\n",
       "            Marriage          6\n",
       "            Enemy             5\n",
       "            Love              3\n",
       "Name: count, dtype: int64"
      ]
     },
     "execution_count": 119,
     "metadata": {},
     "output_type": "execute_result"
    }
   ],
   "source": [
    "df.groupby(\"Successful\")[\"FLAMES_Result\"].value_counts()\n"
   ]
  },
  {
   "cell_type": "code",
   "execution_count": 120,
   "id": "59a6551e-a01c-4ea9-abc9-924362470e45",
   "metadata": {},
   "outputs": [
    {
     "data": {
      "image/png": "[encoded data removed]",
      "text/plain": [
       "<Figure size 700x700 with 1 Axes>"
      ]
     },
     "metadata": {},
     "output_type": "display_data"
    }
   ],
   "source": [
    "\n",
    "flames_counts = df[df[\"Successful\"]==\"yes\"][\"FLAMES_Result\"].value_counts()\n",
    "\n",
    "# Pie chart\n",
    "plt.figure(figsize=(7,7))\n",
    "plt.pie(flames_counts, labels=flames_counts.index, autopct=\"%1.1f%%\", startangle=90)\n",
    "plt.title(\"FLAMES Result Distribution for Successful Marriages (>25 years)\")\n",
    "plt.show()\n"
   ]
  },
  {
   "cell_type": "code",
   "execution_count": 121,
   "id": "42ab405a-dde8-4f27-9076-a1bcb0d5bcce",
   "metadata": {},
   "outputs": [
    {
     "data": {
      "image/png": "[encoded data removed]",
      "text/plain": [
       "<Figure size 600x600 with 1 Axes>"
      ]
     },
     "metadata": {},
     "output_type": "display_data"
    }
   ],
   "source": [
    "# Add a column to classify FLAMES as Positive or Negative\n",
    "positive = [\"Marriage\", \"Love\", \"Affection\", \"Friends\"]\n",
    "df[\"FLAMES_Type\"] = df[\"FLAMES_Result\"].apply(lambda x: \"Positive\" if x in positive else \"Negative\")\n",
    "\n",
    "# Count Positive vs Negative\n",
    "type_counts = df[\"FLAMES_Type\"].value_counts()\n",
    "\n",
    "# Pie chart\n",
    "plt.figure(figsize=(6,6))\n",
    "plt.pie(type_counts, labels=type_counts.index, autopct=\"%1.1f%%\", startangle=90, colors=[\"#66b3ff\",\"#ff6666\"])\n",
    "plt.title(\"Positive vs Negative FLAMES\")\n",
    "plt.show()\n"
   ]
  },
  {
   "cell_type": "code",
   "execution_count": 122,
   "id": "679c5047-f0d9-45da-9238-1529af16ea89",
   "metadata": {},
   "outputs": [
    {
     "data": {
      "image/png": "[encoded data removed]",
      "text/plain": [
       "<Figure size 600x600 with 1 Axes>"
      ]
     },
     "metadata": {},
     "output_type": "display_data"
    }
   ],
   "source": [
    "total_counts = {\"Positive FLAMES\":26, \"Negative FLAMES\":7}\n",
    "\n",
    "plt.figure(figsize=(6,6))\n",
    "plt.pie(total_counts.values(), labels=total_counts.keys(), autopct=\"%1.1f%%\", startangle=90, colors=[\"#66b3ff\",\"#ff6666\"])\n",
    "plt.title(\"FLAMES Result Overview (Total Dataset)\")\n",
    "plt.show()\n"
   ]
  },
  {
   "cell_type": "code",
   "execution_count": null,
   "id": "c7e6c242-d4dc-40a5-bf9a-68119a4cdca4",
   "metadata": {},
   "outputs": [],
   "source": []
  },
  {
   "cell_type": "code",
   "execution_count": null,
   "id": "30557c29-f0fc-43b6-88b0-9bbd22250178",
   "metadata": {},
   "outputs": [],
   "source": []
  }
 ],
 "metadata": {
  "kernelspec": {
   "display_name": "Python 3 (ipykernel)",
   "language": "python",
   "name": "python3"
  },
  "language_info": {
   "codemirror_mode": {
    "name": "ipython",
    "version": 3
   },
   "file_extension": ".py",
   "mimetype": "text/x-python",
   "name": "python",
   "nbconvert_exporter": "python",
   "pygments_lexer": "ipython3",
   "version": "3.11.1"
  }
 },
 "nbformat": 4,
 "nbformat_minor": 5
}
